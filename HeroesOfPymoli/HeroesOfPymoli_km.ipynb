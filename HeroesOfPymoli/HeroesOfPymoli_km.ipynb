{
 "cells": [
  {
   "cell_type": "markdown",
   "metadata": {},
   "source": [
    "### Note\n",
    "* Instructions have been included for each segment. You do not have to follow them exactly, but they are included to help you think through the steps."
   ]
  },
  {
   "cell_type": "code",
   "execution_count": 1,
   "metadata": {},
   "outputs": [
    {
     "data": {
      "text/html": [
       "<div>\n",
       "<style scoped>\n",
       "    .dataframe tbody tr th:only-of-type {\n",
       "        vertical-align: middle;\n",
       "    }\n",
       "\n",
       "    .dataframe tbody tr th {\n",
       "        vertical-align: top;\n",
       "    }\n",
       "\n",
       "    .dataframe thead th {\n",
       "        text-align: right;\n",
       "    }\n",
       "</style>\n",
       "<table border=\"1\" class=\"dataframe\">\n",
       "  <thead>\n",
       "    <tr style=\"text-align: right;\">\n",
       "      <th></th>\n",
       "      <th>Purchase ID</th>\n",
       "      <th>SN</th>\n",
       "      <th>Age</th>\n",
       "      <th>Gender</th>\n",
       "      <th>Item ID</th>\n",
       "      <th>Item Name</th>\n",
       "      <th>Price</th>\n",
       "    </tr>\n",
       "  </thead>\n",
       "  <tbody>\n",
       "    <tr>\n",
       "      <th>0</th>\n",
       "      <td>0</td>\n",
       "      <td>Lisim78</td>\n",
       "      <td>20</td>\n",
       "      <td>Male</td>\n",
       "      <td>108</td>\n",
       "      <td>Extraction, Quickblade Of Trembling Hands</td>\n",
       "      <td>3.53</td>\n",
       "    </tr>\n",
       "    <tr>\n",
       "      <th>1</th>\n",
       "      <td>1</td>\n",
       "      <td>Lisovynya38</td>\n",
       "      <td>40</td>\n",
       "      <td>Male</td>\n",
       "      <td>143</td>\n",
       "      <td>Frenzied Scimitar</td>\n",
       "      <td>1.56</td>\n",
       "    </tr>\n",
       "    <tr>\n",
       "      <th>2</th>\n",
       "      <td>2</td>\n",
       "      <td>Ithergue48</td>\n",
       "      <td>24</td>\n",
       "      <td>Male</td>\n",
       "      <td>92</td>\n",
       "      <td>Final Critic</td>\n",
       "      <td>4.88</td>\n",
       "    </tr>\n",
       "    <tr>\n",
       "      <th>3</th>\n",
       "      <td>3</td>\n",
       "      <td>Chamassasya86</td>\n",
       "      <td>24</td>\n",
       "      <td>Male</td>\n",
       "      <td>100</td>\n",
       "      <td>Blindscythe</td>\n",
       "      <td>3.27</td>\n",
       "    </tr>\n",
       "    <tr>\n",
       "      <th>4</th>\n",
       "      <td>4</td>\n",
       "      <td>Iskosia90</td>\n",
       "      <td>23</td>\n",
       "      <td>Male</td>\n",
       "      <td>131</td>\n",
       "      <td>Fury</td>\n",
       "      <td>1.44</td>\n",
       "    </tr>\n",
       "  </tbody>\n",
       "</table>\n",
       "</div>"
      ],
      "text/plain": [
       "   Purchase ID             SN  Age Gender  Item ID  \\\n",
       "0            0        Lisim78   20   Male      108   \n",
       "1            1    Lisovynya38   40   Male      143   \n",
       "2            2     Ithergue48   24   Male       92   \n",
       "3            3  Chamassasya86   24   Male      100   \n",
       "4            4      Iskosia90   23   Male      131   \n",
       "\n",
       "                                   Item Name  Price  \n",
       "0  Extraction, Quickblade Of Trembling Hands   3.53  \n",
       "1                          Frenzied Scimitar   1.56  \n",
       "2                               Final Critic   4.88  \n",
       "3                                Blindscythe   3.27  \n",
       "4                                       Fury   1.44  "
      ]
     },
     "execution_count": 1,
     "metadata": {},
     "output_type": "execute_result"
    }
   ],
   "source": [
    "# Dependencies and Setup_Complete\n",
    "import pandas as pd\n",
    "\n",
    "# File to Load (Remember to Change These)\n",
    "csv_path = \"Resources/purchase_data.csv\"\n",
    "\n",
    "# Read Purchasing File and store into Pandas data frame\n",
    "Heroes_df = pd.read_csv(csv_path)\n",
    "Heroes_df.head()\n"
   ]
  },
  {
   "cell_type": "markdown",
   "metadata": {},
   "source": [
    "## Player Count"
   ]
  },
  {
   "cell_type": "markdown",
   "metadata": {},
   "source": [
    "* Display the total number of players\n"
   ]
  },
  {
   "cell_type": "code",
   "execution_count": 2,
   "metadata": {},
   "outputs": [
    {
     "name": "stdout",
     "output_type": "stream",
     "text": [
      "Player Count:\n",
      "_____________\n",
      "_____________\n",
      "Total number of players is:\n",
      "576\n"
     ]
    }
   ],
   "source": [
    "# Complete\n",
    "player_count=Heroes_df[\"SN\"].nunique()\n",
    "print(\"Player Count:\")\n",
    "print(\"_____________\")\n",
    "print(\"_____________\")\n",
    "print('Total number of players is:')\n",
    "print(player_count)"
   ]
  },
  {
   "cell_type": "markdown",
   "metadata": {},
   "source": [
    "## Purchasing Analysis (Total)"
   ]
  },
  {
   "cell_type": "markdown",
   "metadata": {},
   "source": [
    "* Run basic calculations to obtain number of unique items, average price, etc.\n",
    "\n",
    "\n",
    "* Create a summary data frame to hold the results\n",
    "\n",
    "\n",
    "* Optional: give the displayed data cleaner formatting\n",
    "\n",
    "\n",
    "* Display the summary data frame\n"
   ]
  },
  {
   "cell_type": "code",
   "execution_count": 3,
   "metadata": {
    "scrolled": true
   },
   "outputs": [
    {
     "name": "stdout",
     "output_type": "stream",
     "text": [
      "Purchasing Analysis (Total):\n",
      "____________________________\n",
      "____________________________\n",
      "Number of Unique items:\n",
      "179\n",
      "Average Price for item:\n",
      "$13.29\n",
      "Total Number of Purchases:\n",
      "780\n",
      "Total Revenue:\n",
      "$2,379.77\n"
     ]
    }
   ],
   "source": [
    "#Complete\n",
    "Unique_item_count=Heroes_df[\"Item ID\"].nunique()\n",
    "print(\"Purchasing Analysis (Total):\")\n",
    "print(\"____________________________\")\n",
    "print(\"____________________________\")\n",
    "print('Number of Unique items:')\n",
    "print(Unique_item_count)\n",
    "Price_Total=Heroes_df[\"Price\"].sum()\n",
    "Average_Price= Price_Total/179\n",
    "Formatted_float = \"${:,.2f}\".format(Average_Price)\n",
    "print(\"Average Price for item:\")\n",
    "print(Formatted_float)\n",
    "Total_Purchase_Num=Heroes_df[\"Purchase ID\"].nunique()\n",
    "print('Total Number of Purchases:')\n",
    "print(Total_Purchase_Num)\n",
    "Revenue=Heroes_df[\"Price\"].sum()\n",
    "Formatted_float2 = \"${:,.2f}\".format(Revenue)\n",
    "print('Total Revenue:')\n",
    "print(Formatted_float2)\n"
   ]
  },
  {
   "cell_type": "markdown",
   "metadata": {},
   "source": [
    "## Gender Demographics"
   ]
  },
  {
   "cell_type": "markdown",
   "metadata": {},
   "source": [
    "* Percentage and Count of Male Players\n",
    "\n",
    "\n",
    "* Percentage and Count of Female Players\n",
    "\n",
    "\n",
    "* Percentage and Count of Other / Non-Disclosed\n",
    "\n",
    "\n"
   ]
  },
  {
   "cell_type": "code",
   "execution_count": 4,
   "metadata": {},
   "outputs": [
    {
     "name": "stdout",
     "output_type": "stream",
     "text": [
      "Gender Demographics:\n",
      "____________________\n",
      "____________________\n",
      "Female Count:\n",
      "113\n",
      "Female Percentage:\n",
      "14.49%\n",
      "Male Count:\n",
      "652\n",
      "Male Percentage:\n",
      "83.59%\n",
      "Other / Non-Disclosed Count:\n",
      "15\n",
      "Other / Non-Disclosed Percentage:\n",
      "1.92%\n"
     ]
    }
   ],
   "source": [
    "# Complete\n",
    "Gender_Demographics_df=Heroes_df['Gender']\n",
    "Female_Demographics_df= Gender_Demographics_df.loc[Heroes_df[\"Gender\"]== 'Female']\n",
    "Female_Demographics_df.count()\n",
    "Gender_Demographics_df=Heroes_df['Gender']\n",
    "Non_Demographics_df= Gender_Demographics_df.loc[Heroes_df[\"Gender\"]== 'Other / Non-Disclosed']\n",
    "Non_Demographics_df.count()\n",
    "Gender_Demographics_df=Heroes_df['Gender']\n",
    "Male_Demographics_df= Gender_Demographics_df.loc[Heroes_df[\"Gender\"]== 'Male']\n",
    "Gender_Count_df=Male_Demographics_df.count()+Non_Demographics_df.count()+Female_Demographics_df.count()\n",
    "Female_percent_df=Female_Demographics_df.count()/Gender_Count_df\n",
    "Non_Demographics_percent_df=Non_Demographics_df.count()/Gender_Count_df\n",
    "Male_percent_df=Male_Demographics_df.count()/Gender_Count_df\n",
    "Formatted_float3 = \"{:,.2f}%\".format(Female_percent_df*100)\n",
    "Formatted_float4 = \"{:,.2f}%\".format(Male_percent_df*100)\n",
    "Formatted_float5 = \"{:,.2f}%\".format(Non_Demographics_percent_df*100)\n",
    "print('Gender Demographics:')\n",
    "print('____________________')\n",
    "print('____________________')\n",
    "print('Female Count:')\n",
    "print(Female_Demographics_df.count())\n",
    "print('Female Percentage:')\n",
    "print(Formatted_float3)\n",
    "print('Male Count:')\n",
    "print(Male_Demographics_df.count())\n",
    "print('Male Percentage:')\n",
    "print(Formatted_float4)\n",
    "print('Other / Non-Disclosed Count:')\n",
    "print(Non_Demographics_df.count())\n",
    "print('Other / Non-Disclosed Percentage:')\n",
    "print(Formatted_float5)"
   ]
  },
  {
   "cell_type": "markdown",
   "metadata": {},
   "source": [
    "\n",
    "## Purchasing Analysis (Gender)"
   ]
  },
  {
   "cell_type": "markdown",
   "metadata": {},
   "source": [
    "* Run basic calculations to obtain purchase count, avg. purchase price, avg. purchase total per person etc. by gender\n",
    "\n",
    "\n",
    "\n",
    "\n",
    "* Create a summary data frame to hold the results\n",
    "\n",
    "\n",
    "* Optional: give the displayed data cleaner formatting\n",
    "\n",
    "\n",
    "* Display the summary data frame"
   ]
  },
  {
   "cell_type": "code",
   "execution_count": 5,
   "metadata": {},
   "outputs": [
    {
     "name": "stdout",
     "output_type": "stream",
     "text": [
      "Purchasing Analysis (Gender):\n",
      "_____________________________\n",
      "_____________________________\n",
      "Purchase count:\n",
      "____________________________\n",
      "                       Purchase ID\n",
      "Gender                            \n",
      "Female                         113\n",
      "Male                           652\n",
      "Other / Non-Disclosed           15\n",
      "____________________________\n",
      "Avg. purchase price:\n",
      "____________________________\n",
      "                          Price\n",
      "Gender                         \n",
      "Female                 3.203009\n",
      "Male                   3.017853\n",
      "Other / Non-Disclosed  3.346000\n",
      "____________________________\n",
      "Average Purchase total Value:\n",
      "____________________________\n",
      "                         Price\n",
      "Gender                        \n",
      "Female                  361.94\n",
      "Male                   1967.64\n",
      "Other / Non-Disclosed    50.19\n",
      "____________________________\n"
     ]
    }
   ],
   "source": [
    "# Complete\n",
    "\n",
    "By_Gender2= Heroes_df.groupby([\"Gender\"])\n",
    "\n",
    "Gender_avg_df=By_Gender2.count()\n",
    "Purchase_Count=Gender_avg_df.loc[:,[\"Purchase ID\"]]\n",
    "Purchase_Count\n",
    "\n",
    "Gender_price=By_Gender2.mean()\n",
    "avg_purhase_price=Gender_price.loc[:,[\"Price\"]]\n",
    "\n",
    "sum_purhase_price1=By_Gender2.sum()\n",
    "sum_purhase_price=sum_purhase_price1.loc[:,[\"Price\"]]\n",
    "\n",
    "Average_Female_Purchase=(361.94/113)\n",
    "Average_Male_Purchase=(1967.64/652)  \n",
    "Average_Other_Purchase=(50.19/15) \n",
    "\n",
    "Test2_df=By_Gender2.SN.unique()\n",
    "Test3_df=Test2_df\n",
    "\n",
    "print(\"Purchasing Analysis (Gender):\")\n",
    "print(\"_____________________________\")      \n",
    "print(\"_____________________________\")    \n",
    "print(\"Purchase count:\")\n",
    "print(\"____________________________\")\n",
    "print(Purchase_Count)\n",
    "print(\"____________________________\")\n",
    "print(\"Avg. purchase price:\")\n",
    "print(\"____________________________\")\n",
    "print(avg_purhase_price)\n",
    "print(\"____________________________\")\n",
    "print(\"Average Purchase total Value:\")\n",
    "print(\"____________________________\")\n",
    "print(sum_purhase_price)\n",
    "print(\"____________________________\")\n",
    "# print(\"Average Purchase Total per Person by Gender\")\n",
    "# print(\"____________________________\")\n",
    "# print(Test3_df)    "
   ]
  },
  {
   "cell_type": "markdown",
   "metadata": {},
   "source": [
    "## Age Demographics"
   ]
  },
  {
   "cell_type": "markdown",
   "metadata": {},
   "source": [
    "* Establish bins for ages\n",
    "\n",
    "\n",
    "* Categorize the existing players using the age bins. Hint: use pd.cut()\n",
    "\n",
    "\n",
    "* Calculate the numbers and percentages by age group\n",
    "\n",
    "\n",
    "* Create a summary data frame to hold the results\n",
    "\n",
    "\n",
    "* Optional: round the percentage column to two decimal points\n",
    "\n",
    "\n",
    "* Display Age Demographics Table\n"
   ]
  },
  {
   "cell_type": "code",
   "execution_count": 6,
   "metadata": {},
   "outputs": [
    {
     "data": {
      "text/html": [
       "<div>\n",
       "<style scoped>\n",
       "    .dataframe tbody tr th:only-of-type {\n",
       "        vertical-align: middle;\n",
       "    }\n",
       "\n",
       "    .dataframe tbody tr th {\n",
       "        vertical-align: top;\n",
       "    }\n",
       "\n",
       "    .dataframe thead th {\n",
       "        text-align: right;\n",
       "    }\n",
       "</style>\n",
       "<table border=\"1\" class=\"dataframe\">\n",
       "  <thead>\n",
       "    <tr style=\"text-align: right;\">\n",
       "      <th></th>\n",
       "      <th>Age</th>\n",
       "    </tr>\n",
       "    <tr>\n",
       "      <th>Age Demographics</th>\n",
       "      <th></th>\n",
       "    </tr>\n",
       "  </thead>\n",
       "  <tbody>\n",
       "    <tr>\n",
       "      <th>Age 5 to 9</th>\n",
       "      <td>2.95%</td>\n",
       "    </tr>\n",
       "    <tr>\n",
       "      <th>Age 10 to 14</th>\n",
       "      <td>3.59%</td>\n",
       "    </tr>\n",
       "    <tr>\n",
       "      <th>Age 15  to 19</th>\n",
       "      <td>17.44%</td>\n",
       "    </tr>\n",
       "    <tr>\n",
       "      <th>Age 20 to 24</th>\n",
       "      <td>46.79%</td>\n",
       "    </tr>\n",
       "    <tr>\n",
       "      <th>Age 25 to 29</th>\n",
       "      <td>12.95%</td>\n",
       "    </tr>\n",
       "    <tr>\n",
       "      <th>Age 30 to 34</th>\n",
       "      <td>9.36%</td>\n",
       "    </tr>\n",
       "    <tr>\n",
       "      <th>Age 35 to 39</th>\n",
       "      <td>5.26%</td>\n",
       "    </tr>\n",
       "    <tr>\n",
       "      <th>Age 40 yo 44</th>\n",
       "      <td>1.54%</td>\n",
       "    </tr>\n",
       "    <tr>\n",
       "      <th>Age 45 to 49</th>\n",
       "      <td>0.13%</td>\n",
       "    </tr>\n",
       "  </tbody>\n",
       "</table>\n",
       "</div>"
      ],
      "text/plain": [
       "                     Age\n",
       "Age Demographics        \n",
       "Age 5 to 9         2.95%\n",
       "Age 10 to 14       3.59%\n",
       "Age 15  to 19     17.44%\n",
       "Age 20 to 24      46.79%\n",
       "Age 25 to 29      12.95%\n",
       "Age 30 to 34       9.36%\n",
       "Age 35 to 39       5.26%\n",
       "Age 40 yo 44       1.54%\n",
       "Age 45 to 49       0.13%"
      ]
     },
     "execution_count": 6,
     "metadata": {},
     "output_type": "execute_result"
    }
   ],
   "source": [
    "# Complete\n",
    "# print(Heroes_df[\"Age\"].max())\n",
    "# print(Heroes_df[\"Age\"].min())\n",
    "bins = [5,9,14,19,24,29,34,39,44,49]\n",
    "Age_labels = [\"Age 5 to 9\",\"Age 10 to 14\", \"Age 15  to 19\", \"Age 20 to 24\", \"Age 25 to 29\",\"Age 30 to 34\",\"Age 35 to 39\", \"Age 40 yo 44\", \"Age 45 to 49\"]\n",
    "Heroes_df[\"Age Demographics\"]=pd.cut(Heroes_df[\"Age\"], bins, labels=Age_labels)\n",
    "Age_df = Heroes_df.loc[:,[\"Age Demographics\",\"Age\"]]\n",
    "Ages_df=Age_df.groupby([\"Age Demographics\"])\n",
    "Count_df=Ages_df.count()\n",
    "Total_Age_df=Count_df.sum()\n",
    "Total_Age_df\n",
    "Percentage_df=(Count_df/Total_Age_df)*100\n",
    "Percentage_df[\"Age\"] = Percentage_df[\"Age\"].astype(float).map(\"{:,.2f}%\".format)\n",
    "Percentage_df"
   ]
  },
  {
   "cell_type": "markdown",
   "metadata": {},
   "source": [
    "## Purchasing Analysis (Age)"
   ]
  },
  {
   "cell_type": "markdown",
   "metadata": {},
   "source": [
    "* Bin the purchase_data data frame by age\n",
    "\n",
    "\n",
    "* Run basic calculations to obtain purchase count, avg. purchase price, avg. purchase total per person etc. in the table below\n",
    "\n",
    "\n",
    "* Create a summary data frame to hold the results\n",
    "\n",
    "\n",
    "* Optional: give the displayed data cleaner formatting\n",
    "\n",
    "\n",
    "* Display the summary data frame"
   ]
  },
  {
   "cell_type": "code",
   "execution_count": 7,
   "metadata": {},
   "outputs": [],
   "source": [
    "# Not Started"
   ]
  },
  {
   "cell_type": "markdown",
   "metadata": {},
   "source": [
    "## Top Spenders"
   ]
  },
  {
   "cell_type": "markdown",
   "metadata": {},
   "source": [
    "* Run basic calculations to obtain the results in the table below\n",
    "\n",
    "\n",
    "* Create a summary data frame to hold the results\n",
    "\n",
    "\n",
    "* Sort the total purchase value column in descending order\n",
    "\n",
    "\n",
    "* Optional: give the displayed data cleaner formatting\n",
    "\n",
    "\n",
    "* Display a preview of the summary data frame\n",
    "\n"
   ]
  },
  {
   "cell_type": "code",
   "execution_count": 8,
   "metadata": {},
   "outputs": [],
   "source": [
    "# Top 5 Spenders_Complete\n",
    "Popular_Heroes_df = Heroes_df.loc[:,[\"SN\",\"Price\"]]\n",
    "Top_df=Popular_Heroes_df.groupby([\"SN\"])\n",
    "Total_Purchase_Value_df=Top_df.sum()\n",
    "Average_Purchase_Price=Top_df.mean()\n",
    "Total_Purchase_Count=Top_df.count()\n",
    "Total_purchase_Count1=Total_Purchase_Count.rename(columns={\"Price\":\"Purchase Count\"})\n",
    "Average_Purchase_Price=Top_df.mean()\n",
    "Average_Purchase_Price1=Average_Purchase_Price.rename(columns={\"Price\":\"Average Purchase Price\"})\n",
    "Average_Purchase_Price1\n",
    "Average_Purchase_Price1=Average_Purchase_Price.rename(columns={\"Price\":\"Average Purchase Price\"})\n",
    "Total_Purchase_Value_df1=Total_Purchase_Value_df.rename(columns={\"Price\":\"Total Purchase Value\"})\n",
    "Total_Purchase_Value_df1[\"Toatal Purchase Count\"]=Total_purchase_Count1\n",
    "Total_Purchase_Value_df1[\"Average Purchase Price\"]=Average_Purchase_Price1\n",
    "Total_Purchase_Value_df1[\"Average Purchase Price\"] = Total_Purchase_Value_df1[\"Average Purchase Price\"].astype(float).map(\"${:,.2f}\".format)\n",
    "Total_Purchase_Value_df1[\"Total Purchase Value\"] = Total_Purchase_Value_df1[\"Total Purchase Value\"].astype(float).map(\"${:,.2f}\".format)\n",
    "Total_Purchase_Value_df2 =Total_Purchase_Value_df1.sort_values(\"Total Purchase Value\", ascending=False)\n",
    "Top5df=Total_Purchase_Value_df2.loc[\"Haillyrgue51\":\"Saesrideu94\"]"
   ]
  },
  {
   "cell_type": "markdown",
   "metadata": {},
   "source": [
    "## Most Popular Items"
   ]
  },
  {
   "cell_type": "markdown",
   "metadata": {},
   "source": [
    "* Retrieve the Item ID, Item Name, and Item Price columns\n",
    "\n",
    "\n",
    "* Group by Item ID and Item Name. Perform calculations to obtain purchase count, average item price, and total purchase value\n",
    "\n",
    "\n",
    "* Create a summary data frame to hold the results\n",
    "\n",
    "\n",
    "* Sort the purchase count column in descending order\n",
    "\n",
    "\n",
    "* Optional: give the displayed data cleaner formatting\n",
    "\n",
    "\n",
    "* Display a preview of the summary data frame\n",
    "\n"
   ]
  },
  {
   "cell_type": "code",
   "execution_count": 9,
   "metadata": {},
   "outputs": [
    {
     "data": {
      "text/html": [
       "<div>\n",
       "<style scoped>\n",
       "    .dataframe tbody tr th:only-of-type {\n",
       "        vertical-align: middle;\n",
       "    }\n",
       "\n",
       "    .dataframe tbody tr th {\n",
       "        vertical-align: top;\n",
       "    }\n",
       "\n",
       "    .dataframe thead th {\n",
       "        text-align: right;\n",
       "    }\n",
       "</style>\n",
       "<table border=\"1\" class=\"dataframe\">\n",
       "  <thead>\n",
       "    <tr style=\"text-align: right;\">\n",
       "      <th></th>\n",
       "      <th>Average Price</th>\n",
       "      <th>Purchase Count</th>\n",
       "      <th>Total Purchase Value</th>\n",
       "    </tr>\n",
       "    <tr>\n",
       "      <th>Item Name</th>\n",
       "      <th></th>\n",
       "      <th></th>\n",
       "      <th></th>\n",
       "    </tr>\n",
       "  </thead>\n",
       "  <tbody>\n",
       "    <tr>\n",
       "      <th>Final Critic</th>\n",
       "      <td>4.614615</td>\n",
       "      <td>13</td>\n",
       "      <td>59.99</td>\n",
       "    </tr>\n",
       "    <tr>\n",
       "      <th>Oathbreaker, Last Hope of the Breaking Storm</th>\n",
       "      <td>4.230000</td>\n",
       "      <td>12</td>\n",
       "      <td>50.76</td>\n",
       "    </tr>\n",
       "    <tr>\n",
       "      <th>Persuasion</th>\n",
       "      <td>3.221111</td>\n",
       "      <td>9</td>\n",
       "      <td>28.99</td>\n",
       "    </tr>\n",
       "    <tr>\n",
       "      <th>Nirvana</th>\n",
       "      <td>4.900000</td>\n",
       "      <td>9</td>\n",
       "      <td>44.10</td>\n",
       "    </tr>\n",
       "    <tr>\n",
       "      <th>Extraction, Quickblade Of Trembling Hands</th>\n",
       "      <td>3.530000</td>\n",
       "      <td>9</td>\n",
       "      <td>31.77</td>\n",
       "    </tr>\n",
       "  </tbody>\n",
       "</table>\n",
       "</div>"
      ],
      "text/plain": [
       "                                              Average Price  Purchase Count  \\\n",
       "Item Name                                                                     \n",
       "Final Critic                                       4.614615              13   \n",
       "Oathbreaker, Last Hope of the Breaking Storm       4.230000              12   \n",
       "Persuasion                                         3.221111               9   \n",
       "Nirvana                                            4.900000               9   \n",
       "Extraction, Quickblade Of Trembling Hands          3.530000               9   \n",
       "\n",
       "                                              Total Purchase Value  \n",
       "Item Name                                                           \n",
       "Final Critic                                                 59.99  \n",
       "Oathbreaker, Last Hope of the Breaking Storm                 50.76  \n",
       "Persuasion                                                   28.99  \n",
       "Nirvana                                                      44.10  \n",
       "Extraction, Quickblade Of Trembling Hands                    31.77  "
      ]
     },
     "execution_count": 9,
     "metadata": {},
     "output_type": "execute_result"
    }
   ],
   "source": [
    "# Complete\n",
    "Popular_Heroes_df = Heroes_df.loc[:,[\"Item Name\",\"Price\"]]\n",
    "Grouped_ID_df=Popular_Heroes_df.groupby([\"Item Name\"])\n",
    "Average_price_Mean_df=Grouped_ID_df.mean()\n",
    "Average_price_Mean_df\n",
    "Total_Purchase_price_Sum_df=Grouped_ID_df.sum()\n",
    "Total_Purchase_price_Sum_df\n",
    "Summary_df=Grouped_ID_df[\"Item Name\"].count()\n",
    "Average_price_Mean1_df=Average_price_Mean_df.rename(columns={\"Price\":\"Average Price\"})\n",
    "Total_Purchase_price_Sum1_df=Total_Purchase_price_Sum_df.rename(columns={\"Price\":\"Total Purchase Sum\"})\n",
    "Count_df=Grouped_ID_df.count()\n",
    "Count_df1=Count_df.rename(columns={\"Price\":\"Purchase Count\"})\n",
    "Average_price_Mean1_df[\"Purchase Count\"]=Count_df1\n",
    "Average_price_Mean1_df[\"Total Purchase Value\"]=Total_Purchase_price_Sum1_df\n",
    "Sort2_df=Average_price_Mean1_df.sort_values(\"Purchase Count\", ascending=False)\n",
    "Top5df2_df=Sort2_df[\"Final Critic\":\"Extraction, Quickblade Of Trembling Hands\"]\n",
    "# Top5df2_df[\"Total Purchase Value\"] = Top5df2_df[\"Total Purchase Value\"].astype(float).map(\"${:,.2f}\".format)\n",
    "# Top5df2_df[\"Average Price\"] = Top5df2_df[\"Average Price\"].astype(float).map(\"${:,.2f}\".format)\n",
    "Top5df2_df"
   ]
  },
  {
   "cell_type": "markdown",
   "metadata": {},
   "source": [
    "## Most Profitable Items"
   ]
  },
  {
   "cell_type": "markdown",
   "metadata": {},
   "source": [
    "* Sort the above table by total purchase value in descending order\n",
    "\n",
    "\n",
    "* Optional: give the displayed data cleaner formatting\n",
    "\n",
    "\n",
    "* Display a preview of the data frame\n",
    "\n"
   ]
  },
  {
   "cell_type": "code",
   "execution_count": 11,
   "metadata": {
    "scrolled": true
   },
   "outputs": [
    {
     "data": {
      "text/html": [
       "<div>\n",
       "<style scoped>\n",
       "    .dataframe tbody tr th:only-of-type {\n",
       "        vertical-align: middle;\n",
       "    }\n",
       "\n",
       "    .dataframe tbody tr th {\n",
       "        vertical-align: top;\n",
       "    }\n",
       "\n",
       "    .dataframe thead th {\n",
       "        text-align: right;\n",
       "    }\n",
       "</style>\n",
       "<table border=\"1\" class=\"dataframe\">\n",
       "  <thead>\n",
       "    <tr style=\"text-align: right;\">\n",
       "      <th></th>\n",
       "      <th>Average Price</th>\n",
       "      <th>Purchase Count</th>\n",
       "      <th>Total Purchase Value</th>\n",
       "    </tr>\n",
       "    <tr>\n",
       "      <th>Item Name</th>\n",
       "      <th></th>\n",
       "      <th></th>\n",
       "      <th></th>\n",
       "    </tr>\n",
       "  </thead>\n",
       "  <tbody>\n",
       "    <tr>\n",
       "      <th>Final Critic</th>\n",
       "      <td>4.614615</td>\n",
       "      <td>13</td>\n",
       "      <td>59.99</td>\n",
       "    </tr>\n",
       "    <tr>\n",
       "      <th>Oathbreaker, Last Hope of the Breaking Storm</th>\n",
       "      <td>4.230000</td>\n",
       "      <td>12</td>\n",
       "      <td>50.76</td>\n",
       "    </tr>\n",
       "    <tr>\n",
       "      <th>Nirvana</th>\n",
       "      <td>4.900000</td>\n",
       "      <td>9</td>\n",
       "      <td>44.10</td>\n",
       "    </tr>\n",
       "    <tr>\n",
       "      <th>Fiery Glass Crusader</th>\n",
       "      <td>4.580000</td>\n",
       "      <td>9</td>\n",
       "      <td>41.22</td>\n",
       "    </tr>\n",
       "    <tr>\n",
       "      <th>Singed Scalpel</th>\n",
       "      <td>4.350000</td>\n",
       "      <td>8</td>\n",
       "      <td>34.80</td>\n",
       "    </tr>\n",
       "  </tbody>\n",
       "</table>\n",
       "</div>"
      ],
      "text/plain": [
       "                                              Average Price  Purchase Count  \\\n",
       "Item Name                                                                     \n",
       "Final Critic                                       4.614615              13   \n",
       "Oathbreaker, Last Hope of the Breaking Storm       4.230000              12   \n",
       "Nirvana                                            4.900000               9   \n",
       "Fiery Glass Crusader                               4.580000               9   \n",
       "Singed Scalpel                                     4.350000               8   \n",
       "\n",
       "                                              Total Purchase Value  \n",
       "Item Name                                                           \n",
       "Final Critic                                                 59.99  \n",
       "Oathbreaker, Last Hope of the Breaking Storm                 50.76  \n",
       "Nirvana                                                      44.10  \n",
       "Fiery Glass Crusader                                         41.22  \n",
       "Singed Scalpel                                               34.80  "
      ]
     },
     "execution_count": 11,
     "metadata": {},
     "output_type": "execute_result"
    }
   ],
   "source": [
    "# Complete\n",
    "Popular_Heroes_df = Heroes_df.loc[:,[\"Item Name\",\"Price\"]]\n",
    "Grouped_ID_df=Popular_Heroes_df.groupby([\"Item Name\"])\n",
    "Average_price_Mean=Grouped_ID_df.mean()\n",
    "Average_price_Mean\n",
    "Total_Purchase_price_Sum=Grouped_ID_df.sum()\n",
    "Total_Purchase_price_Sum\n",
    "Summary_df=Grouped_ID_df[\"Item Name\"].count()\n",
    "Average_price_Mean1=Average_price_Mean.rename(columns={\"Price\":\"Average Price\"})\n",
    "Total_Purchase_price_Sum1=Total_Purchase_price_Sum.rename(columns={\"Price\":\"Total Purchase Sum\"})\n",
    "Count_df=Grouped_ID_df.count()\n",
    "Count_df1=Count_df.rename(columns={\"Price\":\"Purchase Count\"})\n",
    "Average_price_Mean1[\"Purchase Count\"]=Count_df1\n",
    "Average_price_Mean1[\"Total Purchase Value\"]=Total_Purchase_price_Sum1\n",
    "Sort=Average_price_Mean1.sort_values(\"Total Purchase Value\", ascending=False)\n",
    "Top5df2=Sort.loc[\"Final Critic\":\"Singed Scalpel\"]\n",
    "# Top5df2[\"Total Purchase Value\"] = Top5df2[\"Total Purchase Value\"].astype(float).map(\"${:,.2f}\".format)\n",
    "# Top5df2[\"Average Price\"] = Top5df2[\"Average Price\"].astype(float).map(\"${:,.2f}\".format)\n",
    "Top5df2"
   ]
  },
  {
   "cell_type": "code",
   "execution_count": null,
   "metadata": {},
   "outputs": [],
   "source": []
  }
 ],
 "metadata": {
  "anaconda-cloud": {},
  "kernel_info": {
   "name": "python3"
  },
  "kernelspec": {
   "display_name": "Python [conda env:root] *",
   "language": "python",
   "name": "conda-root-py"
  },
  "language_info": {
   "codemirror_mode": {
    "name": "ipython",
    "version": 3
   },
   "file_extension": ".py",
   "mimetype": "text/x-python",
   "name": "python",
   "nbconvert_exporter": "python",
   "pygments_lexer": "ipython3",
   "version": "3.8.5"
  },
  "latex_envs": {
   "LaTeX_envs_menu_present": true,
   "autoclose": false,
   "autocomplete": true,
   "bibliofile": "biblio.bib",
   "cite_by": "apalike",
   "current_citInitial": 1,
   "eqLabelWithNumbers": true,
   "eqNumInitial": 1,
   "hotkeys": {
    "equation": "Ctrl-E",
    "itemize": "Ctrl-I"
   },
   "labels_anchors": false,
   "latex_user_defs": false,
   "report_style_numbering": false,
   "user_envs_cfg": false
  },
  "nteract": {
   "version": "0.2.0"
  }
 },
 "nbformat": 4,
 "nbformat_minor": 2
}
